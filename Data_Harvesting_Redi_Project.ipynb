{
  "nbformat": 4,
  "nbformat_minor": 0,
  "metadata": {
    "colab": {
      "provenance": [],
      "include_colab_link": true
    },
    "kernelspec": {
      "name": "python3",
      "display_name": "Python 3"
    },
    "language_info": {
      "name": "python"
    }
  },
  "cells": [
    {
      "cell_type": "markdown",
      "metadata": {
        "id": "view-in-github",
        "colab_type": "text"
      },
      "source": [
        "<a href=\"https://colab.research.google.com/github/imdad132/X-Data-Mining-using-Python-tweepy/blob/main/Data_Harvesting_Redi_Project.ipynb\" target=\"_parent\"><img src=\"https://colab.research.google.com/assets/colab-badge.svg\" alt=\"Open In Colab\"/></a>"
      ]
    },
    {
      "cell_type": "code",
      "source": [
        "import tweepy\n",
        "import pandas as pd\n",
        "\n",
        "# Replace with your Twitter API credentials\n",
        "BEARER_TOKEN = \"AAAAAAAAAAAAAAAAAAAAAAhTxwEAAAAAOcBm%2BEElucip%2FxBzgjbMs0YW5Ck%3DVzO6DqfAvreuPwWujyp7dHlxX15LHXFOteZNTCuqTHF6dZ2CmA\"\n",
        "\n",
        "# Initialize the Tweepy client\n",
        "client = tweepy.Client(bearer_token=BEARER_TOKEN)\n",
        "\n",
        "# Define the search query\n",
        "query = \"UkraineRussiaWar\"\n",
        "\n",
        "# Fetch recent tweets containing the query\n",
        "try:\n",
        "    # Fetch tweets\n",
        "    response = client.search_recent_tweets(query=query, max_results=50, tweet_fields=[\"id\", \"text\", \"created_at\"])\n",
        "\n",
        "    # Check if there are tweets in the response\n",
        "    if response.data:\n",
        "        # Store tweets in a container\n",
        "        attributes_container = []\n",
        "        for tweet in response.data:\n",
        "            attributes_container.append([tweet.id, tweet.text, tweet.created_at])\n",
        "\n",
        "        # Define columns for the DataFrame\n",
        "        columns = [\"Tweet ID\", \"Tweet Text\", \"Created At\"]\n",
        "\n",
        "        # Create DataFrame\n",
        "        tweets_df = pd.DataFrame(attributes_container, columns=columns)\n",
        "\n",
        "        # Print the DataFrame\n",
        "        print(tweets_df)\n",
        "    else:\n",
        "        print(\"No tweets found.\")\n",
        "\n",
        "except tweepy.TweepyException as e:\n",
        "    print('Error:', str(e))"
      ],
      "metadata": {
        "id": "NSW_O2-Z5t6B",
        "colab": {
          "base_uri": "https://localhost:8080/"
        },
        "outputId": "319cbe95-e758-4109-f10a-14de6cce2177"
      },
      "execution_count": 1,
      "outputs": [
        {
          "output_type": "stream",
          "name": "stdout",
          "text": [
            "               Tweet ID                                         Tweet Text  \\\n",
            "0   1940136686291141054  Ukraine army faces serious logistical problem ...   \n",
            "1   1940136569710456951  Everything that the West is not giving to #Ukr...   \n",
            "2   1940136399879250221  More Rosbeefs died in Ukraine, is this a bad n...   \n",
            "3   1940136338948595996  RT @war_noir: #Russia / #Ukraine 🇷🇺🇺🇦: Ichkeri...   \n",
            "4   1940136152264278043  @CNNEE .@CNNEE #Zelensky in Poland and in a sy...   \n",
            "5   1940136044407464162  Πρόβλεψη σοκ από WaPo για Ουκρανία: Οι Ρώσοι θ...   \n",
            "6   1940135964279722373  RT @UKikaski: Earlier today, Ukraine successfu...   \n",
            "7   1940134455609635295  RT @MilitarySummary: #UkraineRussiaWar #Milita...   \n",
            "8   1940134173546623236  RT @war_noir: #Russia / #Ukraine 🇷🇺🇺🇦: Ichkeri...   \n",
            "9   1940134100373041472  RT @MilitarySummary: #UkraineRussiaWar #Milita...   \n",
            "10  1940133807329280042  RT @war_noir: #Russia / #Ukraine 🇷🇺🇺🇦: Ichkeri...   \n",
            "11  1940133576873578994  RT @war_noir: #Russia / #Ukraine 🇷🇺🇺🇦: Ichkeri...   \n",
            "12  1940133164795543683  #Russia / #Ukraine 🇷🇺🇺🇦: Ichkerian (#Chechen) ...   \n",
            "13  1940133101084320099  RT @notasintel: #InteligenciaEconómica\\n#Ukrai...   \n",
            "14  1940133056599531995  Ukraine developing anti-drone interceptor able...   \n",
            "15  1940132742219653367  @CNNEE .@CNNEE Respect President of the #Czech...   \n",
            "16  1940132708820324456  'Over 1,300 kilometers behind enemy lines': Uk...   \n",
            "17  1940132040751624364  “They Burned ‘Glory to Russia’ Into My Stomach...   \n",
            "18  1940131671174795619  #aliceweidel mahnt #merz den #ukrainerussiawar...   \n",
            "19  1940131663440454014  Proof that #ruSSian anti-drone tech is not eff...   \n",
            "20  1940130936097743227  @CNNEE .@CNNEE One scumbag got rid of the othe...   \n",
            "21  1940130698184016166  RT @UaCoins: ✝ God bless Ukraine! 🙏❤️#Kyiv #Uk...   \n",
            "22  1940130694979801401  @CNNEE .@CNNEE #Putin has come out of his burr...   \n",
            "23  1940130459188383970  @CNNEE .@CNNEE #Germany doesn't want to help #...   \n",
            "24  1940130380280897569  RT @MilitarySummary: #UkraineRussiaWar #Milita...   \n",
            "25  1940130275817931014  @CNNEE .@CNNEE Bloody #Putin (170%) wants to s...   \n",
            "26  1940129995839742010  Russian Su-34 Crashes Near Key Airbase During ...   \n",
            "27  1940129862683172903  RT @MilitarySummary: #UkraineRussiaWar #Milita...   \n",
            "28  1940129813416878215  #Zelenskyy Affirms Support for #Azerbaijan Ami...   \n",
            "29  1940129152335540364  @CNNEE .@CNNEE Compensation should have alread...   \n",
            "30  1940128460296380501  Russia must be seen as winning, but momentum I...   \n",
            "31  1940128347284983855  @CNNEE .@CNNEE Words of #Trump seriously \"outr...   \n",
            "32  1940128238006849932  @CNNEE .@CNNEE #Valentine for a troglodyte❗❗❗❗...   \n",
            "33  1940128065129947421  @CNNEE .@CNNEE Already 2 long, monstrous years...   \n",
            "34  1940127598832746808  RT @MilitarySummary: #UkraineRussiaWar #Milita...   \n",
            "35  1940126864514691083  @CNNEE .@CNNEE #Polish-#Russian (#Soviet) \"fri...   \n",
            "36  1940126845455737003  RT @Sunny_000S: THE DICTATOR IS WASTING HIS ME...   \n",
            "37  1940126790464209238  @CNNEE .@CNNEE #PopeFrancis - #Putin's pope? I...   \n",
            "38  1940126694003921126  @CNNEE .@CNNEE A presidential #election that t...   \n",
            "39  1940126597765337100  @CNNEE .@CNNEE #Russia's 'electoral special op...   \n",
            "40  1940126507445493789  @CNNEE .@CNNEE #CrocusCityHall - the bloody \"s...   \n",
            "41  1940126317891981413  @CNNEE .@CNNEE #Russia has begun celebrating t...   \n",
            "42  1940126108369727659  Meanwhile In Papua New Guinea  ..... \\nor \\nNo...   \n",
            "43  1940125888659759529  RT @MilitarySummary: #UkraineRussiaWar #Milita...   \n",
            "44  1940124061465755697  RT @MilitarySummary: #UkraineRussiaWar #Milita...   \n",
            "45  1940123956708884631  RT @UaCoins: 🔥In the Pokrovsky direction, ☠Fly...   \n",
            "46  1940123913985683516  RT @MilitarySummary: #UkraineRussiaWar #Milita...   \n",
            "47  1940123790303781364  RT @MilitarySummary: #UkraineRussiaWar #Milita...   \n",
            "48  1940123440280703319  @CNNEE .@CNNEE #Putin only has the right to co...   \n",
            "49  1940123238878576726  18+🇷🇺A desperate Russian soldier decides to co...   \n",
            "\n",
            "                  Created At  \n",
            "0  2025-07-01 19:53:26+00:00  \n",
            "1  2025-07-01 19:52:58+00:00  \n",
            "2  2025-07-01 19:52:18+00:00  \n",
            "3  2025-07-01 19:52:03+00:00  \n",
            "4  2025-07-01 19:51:19+00:00  \n",
            "5  2025-07-01 19:50:53+00:00  \n",
            "6  2025-07-01 19:50:34+00:00  \n",
            "7  2025-07-01 19:44:34+00:00  \n",
            "8  2025-07-01 19:43:27+00:00  \n",
            "9  2025-07-01 19:43:10+00:00  \n",
            "10 2025-07-01 19:42:00+00:00  \n",
            "11 2025-07-01 19:41:05+00:00  \n",
            "12 2025-07-01 19:39:27+00:00  \n",
            "13 2025-07-01 19:39:11+00:00  \n",
            "14 2025-07-01 19:39:01+00:00  \n",
            "15 2025-07-01 19:37:46+00:00  \n",
            "16 2025-07-01 19:37:38+00:00  \n",
            "17 2025-07-01 19:34:59+00:00  \n",
            "18 2025-07-01 19:33:30+00:00  \n",
            "19 2025-07-01 19:33:29+00:00  \n",
            "20 2025-07-01 19:30:35+00:00  \n",
            "21 2025-07-01 19:29:38+00:00  \n",
            "22 2025-07-01 19:29:38+00:00  \n",
            "23 2025-07-01 19:28:42+00:00  \n",
            "24 2025-07-01 19:28:23+00:00  \n",
            "25 2025-07-01 19:27:58+00:00  \n",
            "26 2025-07-01 19:26:51+00:00  \n",
            "27 2025-07-01 19:26:19+00:00  \n",
            "28 2025-07-01 19:26:08+00:00  \n",
            "29 2025-07-01 19:23:30+00:00  \n",
            "30 2025-07-01 19:20:45+00:00  \n",
            "31 2025-07-01 19:20:18+00:00  \n",
            "32 2025-07-01 19:19:52+00:00  \n",
            "33 2025-07-01 19:19:11+00:00  \n",
            "34 2025-07-01 19:17:20+00:00  \n",
            "35 2025-07-01 19:14:24+00:00  \n",
            "36 2025-07-01 19:14:20+00:00  \n",
            "37 2025-07-01 19:14:07+00:00  \n",
            "38 2025-07-01 19:13:44+00:00  \n",
            "39 2025-07-01 19:13:21+00:00  \n",
            "40 2025-07-01 19:12:59+00:00  \n",
            "41 2025-07-01 19:12:14+00:00  \n",
            "42 2025-07-01 19:11:24+00:00  \n",
            "43 2025-07-01 19:10:32+00:00  \n",
            "44 2025-07-01 19:03:16+00:00  \n",
            "45 2025-07-01 19:02:51+00:00  \n",
            "46 2025-07-01 19:02:41+00:00  \n",
            "47 2025-07-01 19:02:12+00:00  \n",
            "48 2025-07-01 19:00:48+00:00  \n",
            "49 2025-07-01 19:00:00+00:00  \n"
          ]
        }
      ]
    },
    {
      "cell_type": "code",
      "source": [
        "from google.colab import files\n",
        "tweets_df.to_csv('tweets.csv')\n",
        "files.download('tweets.csv')\n"
      ],
      "metadata": {
        "id": "t8ct-ns85-53",
        "outputId": "7964835e-5a03-44bf-eb14-80ddc735dbf1",
        "colab": {
          "base_uri": "https://localhost:8080/",
          "height": 17
        }
      },
      "execution_count": 2,
      "outputs": [
        {
          "output_type": "display_data",
          "data": {
            "text/plain": [
              "<IPython.core.display.Javascript object>"
            ],
            "application/javascript": [
              "\n",
              "    async function download(id, filename, size) {\n",
              "      if (!google.colab.kernel.accessAllowed) {\n",
              "        return;\n",
              "      }\n",
              "      const div = document.createElement('div');\n",
              "      const label = document.createElement('label');\n",
              "      label.textContent = `Downloading \"${filename}\": `;\n",
              "      div.appendChild(label);\n",
              "      const progress = document.createElement('progress');\n",
              "      progress.max = size;\n",
              "      div.appendChild(progress);\n",
              "      document.body.appendChild(div);\n",
              "\n",
              "      const buffers = [];\n",
              "      let downloaded = 0;\n",
              "\n",
              "      const channel = await google.colab.kernel.comms.open(id);\n",
              "      // Send a message to notify the kernel that we're ready.\n",
              "      channel.send({})\n",
              "\n",
              "      for await (const message of channel.messages) {\n",
              "        // Send a message to notify the kernel that we're ready.\n",
              "        channel.send({})\n",
              "        if (message.buffers) {\n",
              "          for (const buffer of message.buffers) {\n",
              "            buffers.push(buffer);\n",
              "            downloaded += buffer.byteLength;\n",
              "            progress.value = downloaded;\n",
              "          }\n",
              "        }\n",
              "      }\n",
              "      const blob = new Blob(buffers, {type: 'application/binary'});\n",
              "      const a = document.createElement('a');\n",
              "      a.href = window.URL.createObjectURL(blob);\n",
              "      a.download = filename;\n",
              "      div.appendChild(a);\n",
              "      a.click();\n",
              "      div.remove();\n",
              "    }\n",
              "  "
            ]
          },
          "metadata": {}
        },
        {
          "output_type": "display_data",
          "data": {
            "text/plain": [
              "<IPython.core.display.Javascript object>"
            ],
            "application/javascript": [
              "download(\"download_8029f200-4fed-4994-8bbb-7ea60a478d2b\", \"tweets.csv\", 12526)"
            ]
          },
          "metadata": {}
        }
      ]
    }
  ]
}
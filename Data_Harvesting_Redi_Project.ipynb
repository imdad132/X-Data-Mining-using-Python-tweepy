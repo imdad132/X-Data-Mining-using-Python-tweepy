{
  "nbformat": 4,
  "nbformat_minor": 0,
  "metadata": {
    "colab": {
      "provenance": [],
      "include_colab_link": true
    },
    "kernelspec": {
      "name": "python3",
      "display_name": "Python 3"
    },
    "language_info": {
      "name": "python"
    }
  },
  "cells": [
    {
      "cell_type": "markdown",
      "metadata": {
        "id": "view-in-github",
        "colab_type": "text"
      },
      "source": [
        "<a href=\"https://colab.research.google.com/github/imdad132/X-Data-Mining-using-Python-tweepy/blob/main/Data_Harvesting_Redi_Project.ipynb\" target=\"_parent\"><img src=\"https://colab.research.google.com/assets/colab-badge.svg\" alt=\"Open In Colab\"/></a>"
      ]
    },
    {
      "cell_type": "code",
      "source": [
        "import tweepy\n",
        "import pandas as pd\n",
        "\n",
        "# Replace with your Twitter API credentials\n",
        "BEARER_TOKEN = \"provide the token here\"\n",
        "\n",
        "# Initialize the Tweepy client\n",
        "client = tweepy.Client(bearer_token=BEARER_TOKEN)\n",
        "\n",
        "# Define the search query\n",
        "query = \"UkraineRussiaWar\"\n",
        "\n",
        "# Fetch recent tweets containing the query\n",
        "try:\n",
        "    # Fetch tweets\n",
        "    response = client.search_recent_tweets(query=query, max_results=50, tweet_fields=[\"id\", \"text\", \"created_at\"])\n",
        "\n",
        "    # Check if there are tweets in the response\n",
        "    if response.data:\n",
        "        # Store tweets in a container\n",
        "        attributes_container = []\n",
        "        for tweet in response.data:\n",
        "            attributes_container.append([tweet.id, tweet.text, tweet.created_at])\n",
        "\n",
        "        # Define columns for the DataFrame\n",
        "        columns = [\"Tweet ID\", \"Tweet Text\", \"Created At\"]\n",
        "\n",
        "        # Create DataFrame\n",
        "        tweets_df = pd.DataFrame(attributes_container, columns=columns)\n",
        "\n",
        "        # Print the DataFrame\n",
        "        print(tweets_df)\n",
        "    else:\n",
        "        print(\"No tweets found.\")\n",
        "\n",
        "except tweepy.TweepyException as e:\n",
        "    print('Error:', str(e))"
      ],
      "metadata": {
        "id": "NSW_O2-Z5t6B"
      },
      "execution_count": null,
      "outputs": []
    },
    {
      "cell_type": "code",
      "source": [
        "from google.colab import files\n",
        "tweets_df.to_csv('tweets.csv')\n",
        "files.download('tweets.csv')\n"
      ],
      "metadata": {
        "id": "t8ct-ns85-53"
      },
      "execution_count": null,
      "outputs": []
    }
  ]
}